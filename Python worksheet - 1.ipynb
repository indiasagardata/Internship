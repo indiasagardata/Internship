{
 "cells": [
  {
   "cell_type": "markdown",
   "id": "66ee5df0",
   "metadata": {},
   "source": [
    "# Programming"
   ]
  },
  {
   "cell_type": "code",
   "execution_count": 4,
   "id": "49a4850c",
   "metadata": {},
   "outputs": [
    {
     "name": "stdout",
     "output_type": "stream",
     "text": [
      "Enter the number:4\n",
      "4! = 24\n"
     ]
    }
   ],
   "source": [
    "# 11)program to find factorial of a number \n",
    "\n",
    "number=int(input(\"Enter the number:\"))\n",
    "\n",
    "factorial = 1\n",
    "\n",
    "if(number < 0):\n",
    "    print(\"cant compute facorial for Negative Numbers\")\n",
    "    \n",
    "elif(number < 2):\n",
    "    print(\"{}! = {}\".format(number,factorial))\n",
    "else:\n",
    "    for num in range (number, 1,-1):\n",
    "        factorial = factorial*num \n",
    "        \n",
    "    print(\"{}! = {}\".format(number,factorial))"
   ]
  },
  {
   "cell_type": "code",
   "execution_count": 13,
   "id": "5d66e4c9",
   "metadata": {},
   "outputs": [
    {
     "name": "stdout",
     "output_type": "stream",
     "text": [
      " Enter a natural number :10\n",
      "10 is a composite number\n"
     ]
    }
   ],
   "source": [
    "# 12)program to find whether number is prime or composite \n",
    "\n",
    "\n",
    "number=int(input (\" Enter a natural number :\"))\n",
    "\n",
    "if number < 1:\n",
    "    print(\"Number needs to be greater than 1\")\n",
    "elif number ==1:\n",
    "    print(number, \"is neither prime or nor composite \")\n",
    "else:\n",
    "    for divisor in range (2,(number//2)):\n",
    "        if (number % divisor)==0:\n",
    "            print(number,\"is a composite number\")\n",
    "            break\n",
    "    else:  \n",
    "         print(number,\"is a prime number\")"
   ]
  },
  {
   "cell_type": "code",
   "execution_count": 5,
   "id": "004bf45e",
   "metadata": {},
   "outputs": [
    {
     "name": "stdout",
     "output_type": "stream",
     "text": [
      "enter string:madam\n",
      "palindrome string\n"
     ]
    }
   ],
   "source": [
    "#13)program to find whether given string is palindrome or not\n",
    "\n",
    "a= input (\"enter string:\")\n",
    "b=a[-1::-1]\n",
    "if(a==b):\n",
    "    print(\"palindrome string\")\n",
    "else:\n",
    "    print(\"NOt palindrome string\")\n",
    "    "
   ]
  },
  {
   "cell_type": "code",
   "execution_count": 3,
   "id": "5e282f48",
   "metadata": {},
   "outputs": [
    {
     "name": "stdout",
     "output_type": "stream",
     "text": [
      " input lenth of shorter angle triangle side :\n",
      "enter a:10\n",
      "enter b:10\n",
      "the  lenth of hypotenous is : 14.142135623730951\n"
     ]
    }
   ],
   "source": [
    "# 14) program to get the third side of ringht angled trangle from given sides \n",
    "\n",
    "\n",
    "from math import sqrt \n",
    "\n",
    "print(\" input lenth of shorter angle triangle side :\")\n",
    "\n",
    "a= float(input(\"enter a:\"))\n",
    "b= float(input(\"enter b:\"))\n",
    "\n",
    "c= sqrt(a**2 + b**2)\n",
    "\n",
    "print(\"the  lenth of hypotenous is :\",c)"
   ]
  },
  {
   "cell_type": "code",
   "execution_count": 7,
   "id": "6c6516bb",
   "metadata": {},
   "outputs": [
    {
     "name": "stdout",
     "output_type": "stream",
     "text": [
      "enter a stringi am writting letter\n",
      "string is  i am writting letter\n",
      "{'i': 3, ' ': 3, 'a': 1, 'm': 1, 'w': 1, 'r': 2, 't': 4, 'n': 1, 'g': 1, 'l': 1, 'e': 2}\n"
     ]
    }
   ],
   "source": [
    "# 15)Python program to print frequency of the each of the characters present in given string.\n",
    "\n",
    "str=input(\"enter a string\")\n",
    "print(\"string is \",str)\n",
    "count={}\n",
    "for x in str:\n",
    "    if x in count.keys():\n",
    "        count[x]+=1\n",
    "    else:\n",
    "        count[x]=1\n",
    "        \n",
    "    \n",
    "print(count)"
   ]
  },
  {
   "cell_type": "code",
   "execution_count": 2,
   "id": "bff42545",
   "metadata": {},
   "outputs": [
    {
     "data": {
      "text/plain": [
       "0"
      ]
     },
     "execution_count": 2,
     "metadata": {},
     "output_type": "execute_result"
    }
   ],
   "source": [
    "# Q2 coreect answer from option solving in jupyter note book \n",
    "\n",
    "2//3"
   ]
  },
  {
   "cell_type": "code",
   "execution_count": 3,
   "id": "9c719029",
   "metadata": {},
   "outputs": [
    {
     "data": {
      "text/plain": [
       "24"
      ]
     },
     "execution_count": 3,
     "metadata": {},
     "output_type": "execute_result"
    }
   ],
   "source": [
    "#Q3\n",
    "\n",
    "6<<2"
   ]
  },
  {
   "cell_type": "code",
   "execution_count": 4,
   "id": "ca9a70bc",
   "metadata": {},
   "outputs": [
    {
     "data": {
      "text/plain": [
       "2"
      ]
     },
     "execution_count": 4,
     "metadata": {},
     "output_type": "execute_result"
    }
   ],
   "source": [
    "#Q4\n",
    "6&2"
   ]
  },
  {
   "cell_type": "code",
   "execution_count": 6,
   "id": "e69ce550",
   "metadata": {},
   "outputs": [
    {
     "data": {
      "text/plain": [
       "6"
      ]
     },
     "execution_count": 6,
     "metadata": {},
     "output_type": "execute_result"
    }
   ],
   "source": [
    "#Q5 \n",
    "6|2"
   ]
  },
  {
   "cell_type": "code",
   "execution_count": null,
   "id": "f0ce974a",
   "metadata": {},
   "outputs": [],
   "source": []
  }
 ],
 "metadata": {
  "kernelspec": {
   "display_name": "Python 3 (ipykernel)",
   "language": "python",
   "name": "python3"
  },
  "language_info": {
   "codemirror_mode": {
    "name": "ipython",
    "version": 3
   },
   "file_extension": ".py",
   "mimetype": "text/x-python",
   "name": "python",
   "nbconvert_exporter": "python",
   "pygments_lexer": "ipython3",
   "version": "3.9.7"
  }
 },
 "nbformat": 4,
 "nbformat_minor": 5
}
